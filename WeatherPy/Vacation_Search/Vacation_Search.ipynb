{
 "cells": [
  {
   "cell_type": "markdown",
   "metadata": {},
   "source": [
    "## Deliverable 2. Create a Customer Travel Destinations Map."
   ]
  },
  {
   "cell_type": "code",
   "execution_count": 17,
   "metadata": {},
   "outputs": [],
   "source": [
    "# Dependencies and Setup\n",
    "import pandas as pd\n",
    "import requests\n",
    "import gmaps\n",
    "\n",
    "# Import API key\n",
    "from config import g_key\n",
    "\n",
    "# Configure gmaps API key\n",
    "gmaps.configure(api_key= g_key)"
   ]
  },
  {
   "cell_type": "code",
   "execution_count": 18,
   "metadata": {},
   "outputs": [
    {
     "output_type": "execute_result",
     "data": {
      "text/plain": [
       "   City_ID         City Country      Lat       Lng  Max Temp  Humidity  \\\n",
       "0        0   Sao Filipe      CV  14.8961  -24.4956     72.61        75   \n",
       "1        1     Vanavara      RU  60.3400  102.2797     35.53        64   \n",
       "2        2      Ushuaia      AR -54.8000  -68.3000     50.00        76   \n",
       "3        3    Busselton      AU -33.6500  115.3333     68.00        74   \n",
       "4        4  Port Alfred      ZA -33.5906   26.8910     70.99        72   \n",
       "\n",
       "   Cloudiness  Wind Speed Current Description  \n",
       "0          63        9.35       broken clouds  \n",
       "1          94       11.81     overcast clouds  \n",
       "2          90       13.80     overcast clouds  \n",
       "3          63        1.01       broken clouds  \n",
       "4           3       22.75           clear sky  "
      ],
      "text/html": "<div>\n<style scoped>\n    .dataframe tbody tr th:only-of-type {\n        vertical-align: middle;\n    }\n\n    .dataframe tbody tr th {\n        vertical-align: top;\n    }\n\n    .dataframe thead th {\n        text-align: right;\n    }\n</style>\n<table border=\"1\" class=\"dataframe\">\n  <thead>\n    <tr style=\"text-align: right;\">\n      <th></th>\n      <th>City_ID</th>\n      <th>City</th>\n      <th>Country</th>\n      <th>Lat</th>\n      <th>Lng</th>\n      <th>Max Temp</th>\n      <th>Humidity</th>\n      <th>Cloudiness</th>\n      <th>Wind Speed</th>\n      <th>Current Description</th>\n    </tr>\n  </thead>\n  <tbody>\n    <tr>\n      <th>0</th>\n      <td>0</td>\n      <td>Sao Filipe</td>\n      <td>CV</td>\n      <td>14.8961</td>\n      <td>-24.4956</td>\n      <td>72.61</td>\n      <td>75</td>\n      <td>63</td>\n      <td>9.35</td>\n      <td>broken clouds</td>\n    </tr>\n    <tr>\n      <th>1</th>\n      <td>1</td>\n      <td>Vanavara</td>\n      <td>RU</td>\n      <td>60.3400</td>\n      <td>102.2797</td>\n      <td>35.53</td>\n      <td>64</td>\n      <td>94</td>\n      <td>11.81</td>\n      <td>overcast clouds</td>\n    </tr>\n    <tr>\n      <th>2</th>\n      <td>2</td>\n      <td>Ushuaia</td>\n      <td>AR</td>\n      <td>-54.8000</td>\n      <td>-68.3000</td>\n      <td>50.00</td>\n      <td>76</td>\n      <td>90</td>\n      <td>13.80</td>\n      <td>overcast clouds</td>\n    </tr>\n    <tr>\n      <th>3</th>\n      <td>3</td>\n      <td>Busselton</td>\n      <td>AU</td>\n      <td>-33.6500</td>\n      <td>115.3333</td>\n      <td>68.00</td>\n      <td>74</td>\n      <td>63</td>\n      <td>1.01</td>\n      <td>broken clouds</td>\n    </tr>\n    <tr>\n      <th>4</th>\n      <td>4</td>\n      <td>Port Alfred</td>\n      <td>ZA</td>\n      <td>-33.5906</td>\n      <td>26.8910</td>\n      <td>70.99</td>\n      <td>72</td>\n      <td>3</td>\n      <td>22.75</td>\n      <td>clear sky</td>\n    </tr>\n  </tbody>\n</table>\n</div>"
     },
     "metadata": {},
     "execution_count": 18
    }
   ],
   "source": [
    "# 1. Import the WeatherPy_database.csv file. \n",
    "city_data_df = pd.read_csv(\"../Weather_Database/WeatherPy_database.csv\")\n",
    "city_data_df.head()"
   ]
  },
  {
   "cell_type": "code",
   "execution_count": 19,
   "metadata": {},
   "outputs": [],
   "source": [
    "# 2. Prompt the user to enter minimum and maximum temperature criteria \n",
    "min_temp = float(input(\"What is the minimum temperature you would like for your trip? \"))\n",
    "max_temp = float(input(\"What is the maximum temperature you would like for your trip? \"))"
   ]
  },
  {
   "cell_type": "code",
   "execution_count": 20,
   "metadata": {},
   "outputs": [
    {
     "output_type": "execute_result",
     "data": {
      "text/plain": [
       "    City_ID         City Country      Lat       Lng  Max Temp  Humidity  \\\n",
       "0         0   Sao Filipe      CV  14.8961  -24.4956     72.61        75   \n",
       "2         2      Ushuaia      AR -54.8000  -68.3000     50.00        76   \n",
       "3         3    Busselton      AU -33.6500  115.3333     68.00        74   \n",
       "4         4  Port Alfred      ZA -33.5906   26.8910     70.99        72   \n",
       "5         5  Mitsamiouli      KM -11.3847   43.2844     80.98        77   \n",
       "8         8      Rikitea      PF -23.1203 -134.9692     78.13        70   \n",
       "9         9    Bay-Khaak      RU  51.1667   94.5000     59.50        19   \n",
       "10       10        Kapaa      US  22.0752 -159.3190     75.20        64   \n",
       "11       11   Vila Velha      BR -20.3297  -40.2925     77.00        78   \n",
       "12       12        Bluff      NZ -46.6000  168.3333     60.01        78   \n",
       "\n",
       "    Cloudiness  Wind Speed Current Description  \n",
       "0           63        9.35       broken clouds  \n",
       "2           90       13.80     overcast clouds  \n",
       "3           63        1.01       broken clouds  \n",
       "4            3       22.75           clear sky  \n",
       "5            6        9.75           clear sky  \n",
       "8            7        4.38           clear sky  \n",
       "9           64       17.40       broken clouds  \n",
       "10          75       11.50       broken clouds  \n",
       "11          20        8.05          few clouds  \n",
       "12          79        5.99       broken clouds  "
      ],
      "text/html": "<div>\n<style scoped>\n    .dataframe tbody tr th:only-of-type {\n        vertical-align: middle;\n    }\n\n    .dataframe tbody tr th {\n        vertical-align: top;\n    }\n\n    .dataframe thead th {\n        text-align: right;\n    }\n</style>\n<table border=\"1\" class=\"dataframe\">\n  <thead>\n    <tr style=\"text-align: right;\">\n      <th></th>\n      <th>City_ID</th>\n      <th>City</th>\n      <th>Country</th>\n      <th>Lat</th>\n      <th>Lng</th>\n      <th>Max Temp</th>\n      <th>Humidity</th>\n      <th>Cloudiness</th>\n      <th>Wind Speed</th>\n      <th>Current Description</th>\n    </tr>\n  </thead>\n  <tbody>\n    <tr>\n      <th>0</th>\n      <td>0</td>\n      <td>Sao Filipe</td>\n      <td>CV</td>\n      <td>14.8961</td>\n      <td>-24.4956</td>\n      <td>72.61</td>\n      <td>75</td>\n      <td>63</td>\n      <td>9.35</td>\n      <td>broken clouds</td>\n    </tr>\n    <tr>\n      <th>2</th>\n      <td>2</td>\n      <td>Ushuaia</td>\n      <td>AR</td>\n      <td>-54.8000</td>\n      <td>-68.3000</td>\n      <td>50.00</td>\n      <td>76</td>\n      <td>90</td>\n      <td>13.80</td>\n      <td>overcast clouds</td>\n    </tr>\n    <tr>\n      <th>3</th>\n      <td>3</td>\n      <td>Busselton</td>\n      <td>AU</td>\n      <td>-33.6500</td>\n      <td>115.3333</td>\n      <td>68.00</td>\n      <td>74</td>\n      <td>63</td>\n      <td>1.01</td>\n      <td>broken clouds</td>\n    </tr>\n    <tr>\n      <th>4</th>\n      <td>4</td>\n      <td>Port Alfred</td>\n      <td>ZA</td>\n      <td>-33.5906</td>\n      <td>26.8910</td>\n      <td>70.99</td>\n      <td>72</td>\n      <td>3</td>\n      <td>22.75</td>\n      <td>clear sky</td>\n    </tr>\n    <tr>\n      <th>5</th>\n      <td>5</td>\n      <td>Mitsamiouli</td>\n      <td>KM</td>\n      <td>-11.3847</td>\n      <td>43.2844</td>\n      <td>80.98</td>\n      <td>77</td>\n      <td>6</td>\n      <td>9.75</td>\n      <td>clear sky</td>\n    </tr>\n    <tr>\n      <th>8</th>\n      <td>8</td>\n      <td>Rikitea</td>\n      <td>PF</td>\n      <td>-23.1203</td>\n      <td>-134.9692</td>\n      <td>78.13</td>\n      <td>70</td>\n      <td>7</td>\n      <td>4.38</td>\n      <td>clear sky</td>\n    </tr>\n    <tr>\n      <th>9</th>\n      <td>9</td>\n      <td>Bay-Khaak</td>\n      <td>RU</td>\n      <td>51.1667</td>\n      <td>94.5000</td>\n      <td>59.50</td>\n      <td>19</td>\n      <td>64</td>\n      <td>17.40</td>\n      <td>broken clouds</td>\n    </tr>\n    <tr>\n      <th>10</th>\n      <td>10</td>\n      <td>Kapaa</td>\n      <td>US</td>\n      <td>22.0752</td>\n      <td>-159.3190</td>\n      <td>75.20</td>\n      <td>64</td>\n      <td>75</td>\n      <td>11.50</td>\n      <td>broken clouds</td>\n    </tr>\n    <tr>\n      <th>11</th>\n      <td>11</td>\n      <td>Vila Velha</td>\n      <td>BR</td>\n      <td>-20.3297</td>\n      <td>-40.2925</td>\n      <td>77.00</td>\n      <td>78</td>\n      <td>20</td>\n      <td>8.05</td>\n      <td>few clouds</td>\n    </tr>\n    <tr>\n      <th>12</th>\n      <td>12</td>\n      <td>Bluff</td>\n      <td>NZ</td>\n      <td>-46.6000</td>\n      <td>168.3333</td>\n      <td>60.01</td>\n      <td>78</td>\n      <td>79</td>\n      <td>5.99</td>\n      <td>broken clouds</td>\n    </tr>\n  </tbody>\n</table>\n</div>"
     },
     "metadata": {},
     "execution_count": 20
    }
   ],
   "source": [
    "# 3. Filter the city_data_df DataFrame using the input statements to create a new DataFrame using the loc method.\n",
    "preferred_cities_df = city_data_df.loc[(city_data_df[\"Max Temp\"] <= max_temp) & \\\n",
    "                                       (city_data_df[\"Max Temp\"] >= min_temp)]\n",
    "preferred_cities_df.head(10)"
   ]
  },
  {
   "cell_type": "code",
   "execution_count": 21,
   "metadata": {},
   "outputs": [
    {
     "output_type": "execute_result",
     "data": {
      "text/plain": [
       "City_ID                0\n",
       "City                   0\n",
       "Country                6\n",
       "Lat                    0\n",
       "Lng                    0\n",
       "Max Temp               0\n",
       "Humidity               0\n",
       "Cloudiness             0\n",
       "Wind Speed             0\n",
       "Current Description    0\n",
       "dtype: int64"
      ]
     },
     "metadata": {},
     "execution_count": 21
    }
   ],
   "source": [
    "# 4a. Determine if there are any empty rows.\n",
    "preferred_cities_df.isnull().sum()"
   ]
  },
  {
   "cell_type": "code",
   "execution_count": 22,
   "metadata": {},
   "outputs": [
    {
     "output_type": "execute_result",
     "data": {
      "text/plain": [
       "City_ID                0\n",
       "City                   0\n",
       "Country                0\n",
       "Lat                    0\n",
       "Lng                    0\n",
       "Max Temp               0\n",
       "Humidity               0\n",
       "Cloudiness             0\n",
       "Wind Speed             0\n",
       "Current Description    0\n",
       "dtype: int64"
      ]
     },
     "metadata": {},
     "execution_count": 22
    }
   ],
   "source": [
    "# 4b. Drop any empty rows and create a new DataFrame that doesn’t have empty rows.\n",
    "preferred_cities_df = preferred_cities_df.dropna()\n",
    "preferred_cities_df.isnull().sum()"
   ]
  },
  {
   "cell_type": "code",
   "execution_count": 23,
   "metadata": {},
   "outputs": [
    {
     "output_type": "execute_result",
     "data": {
      "text/plain": [
       "           City Country  Max Temp Current Description      Lat       Lng  \\\n",
       "0    Sao Filipe      CV     72.61       broken clouds  14.8961  -24.4956   \n",
       "2       Ushuaia      AR     50.00     overcast clouds -54.8000  -68.3000   \n",
       "3     Busselton      AU     68.00       broken clouds -33.6500  115.3333   \n",
       "4   Port Alfred      ZA     70.99           clear sky -33.5906   26.8910   \n",
       "5   Mitsamiouli      KM     80.98           clear sky -11.3847   43.2844   \n",
       "8       Rikitea      PF     78.13           clear sky -23.1203 -134.9692   \n",
       "9     Bay-Khaak      RU     59.50       broken clouds  51.1667   94.5000   \n",
       "10        Kapaa      US     75.20       broken clouds  22.0752 -159.3190   \n",
       "11   Vila Velha      BR     77.00          few clouds -20.3297  -40.2925   \n",
       "12        Bluff      NZ     60.01       broken clouds -46.6000  168.3333   \n",
       "\n",
       "   Hotel Name  \n",
       "0              \n",
       "2              \n",
       "3              \n",
       "4              \n",
       "5              \n",
       "8              \n",
       "9              \n",
       "10             \n",
       "11             \n",
       "12             "
      ],
      "text/html": "<div>\n<style scoped>\n    .dataframe tbody tr th:only-of-type {\n        vertical-align: middle;\n    }\n\n    .dataframe tbody tr th {\n        vertical-align: top;\n    }\n\n    .dataframe thead th {\n        text-align: right;\n    }\n</style>\n<table border=\"1\" class=\"dataframe\">\n  <thead>\n    <tr style=\"text-align: right;\">\n      <th></th>\n      <th>City</th>\n      <th>Country</th>\n      <th>Max Temp</th>\n      <th>Current Description</th>\n      <th>Lat</th>\n      <th>Lng</th>\n      <th>Hotel Name</th>\n    </tr>\n  </thead>\n  <tbody>\n    <tr>\n      <th>0</th>\n      <td>Sao Filipe</td>\n      <td>CV</td>\n      <td>72.61</td>\n      <td>broken clouds</td>\n      <td>14.8961</td>\n      <td>-24.4956</td>\n      <td></td>\n    </tr>\n    <tr>\n      <th>2</th>\n      <td>Ushuaia</td>\n      <td>AR</td>\n      <td>50.00</td>\n      <td>overcast clouds</td>\n      <td>-54.8000</td>\n      <td>-68.3000</td>\n      <td></td>\n    </tr>\n    <tr>\n      <th>3</th>\n      <td>Busselton</td>\n      <td>AU</td>\n      <td>68.00</td>\n      <td>broken clouds</td>\n      <td>-33.6500</td>\n      <td>115.3333</td>\n      <td></td>\n    </tr>\n    <tr>\n      <th>4</th>\n      <td>Port Alfred</td>\n      <td>ZA</td>\n      <td>70.99</td>\n      <td>clear sky</td>\n      <td>-33.5906</td>\n      <td>26.8910</td>\n      <td></td>\n    </tr>\n    <tr>\n      <th>5</th>\n      <td>Mitsamiouli</td>\n      <td>KM</td>\n      <td>80.98</td>\n      <td>clear sky</td>\n      <td>-11.3847</td>\n      <td>43.2844</td>\n      <td></td>\n    </tr>\n    <tr>\n      <th>8</th>\n      <td>Rikitea</td>\n      <td>PF</td>\n      <td>78.13</td>\n      <td>clear sky</td>\n      <td>-23.1203</td>\n      <td>-134.9692</td>\n      <td></td>\n    </tr>\n    <tr>\n      <th>9</th>\n      <td>Bay-Khaak</td>\n      <td>RU</td>\n      <td>59.50</td>\n      <td>broken clouds</td>\n      <td>51.1667</td>\n      <td>94.5000</td>\n      <td></td>\n    </tr>\n    <tr>\n      <th>10</th>\n      <td>Kapaa</td>\n      <td>US</td>\n      <td>75.20</td>\n      <td>broken clouds</td>\n      <td>22.0752</td>\n      <td>-159.3190</td>\n      <td></td>\n    </tr>\n    <tr>\n      <th>11</th>\n      <td>Vila Velha</td>\n      <td>BR</td>\n      <td>77.00</td>\n      <td>few clouds</td>\n      <td>-20.3297</td>\n      <td>-40.2925</td>\n      <td></td>\n    </tr>\n    <tr>\n      <th>12</th>\n      <td>Bluff</td>\n      <td>NZ</td>\n      <td>60.01</td>\n      <td>broken clouds</td>\n      <td>-46.6000</td>\n      <td>168.3333</td>\n      <td></td>\n    </tr>\n  </tbody>\n</table>\n</div>"
     },
     "metadata": {},
     "execution_count": 23
    }
   ],
   "source": [
    "# 5a. Create DataFrame called hotel_df to store hotel names along with city, country, max temp, and coordinates.\n",
    "hotel_df = preferred_cities_df[[\"City\", \"Country\", \"Max Temp\", \"Current Description\", \"Lat\", \"Lng\"]].copy()\n",
    "\n",
    "# 5b. Create a new column \"Hotel Name\"\n",
    "hotel_df[\"Hotel Name\"] = \"\"\n",
    "hotel_df.head(10)"
   ]
  },
  {
   "cell_type": "code",
   "execution_count": 24,
   "metadata": {},
   "outputs": [
    {
     "output_type": "stream",
     "name": "stdout",
     "text": [
      "Hotel not found... skipping.\n",
      "Hotel not found... skipping.\n",
      "Hotel not found... skipping.\n",
      "Hotel not found... skipping.\n",
      "Hotel not found... skipping.\n",
      "Hotel not found... skipping.\n",
      "Hotel not found... skipping.\n",
      "Hotel not found... skipping.\n",
      "Hotel not found... skipping.\n",
      "Hotel not found... skipping.\n",
      "Hotel not found... skipping.\n",
      "Hotel not found... skipping.\n",
      "Hotel not found... skipping.\n",
      "Hotel not found... skipping.\n",
      "Hotel not found... skipping.\n",
      "Hotel not found... skipping.\n",
      "Hotel not found... skipping.\n",
      "Hotel not found... skipping.\n",
      "Hotel not found... skipping.\n",
      "Hotel not found... skipping.\n",
      "Hotel not found... skipping.\n",
      "Hotel not found... skipping.\n",
      "Hotel not found... skipping.\n",
      "Hotel not found... skipping.\n",
      "Hotel not found... skipping.\n",
      "Hotel not found... skipping.\n",
      "Hotel not found... skipping.\n",
      "Hotel not found... skipping.\n",
      "Hotel not found... skipping.\n",
      "Hotel not found... skipping.\n",
      "Hotel not found... skipping.\n",
      "Hotel not found... skipping.\n",
      "Hotel not found... skipping.\n",
      "Hotel not found... skipping.\n",
      "Hotel not found... skipping.\n",
      "Hotel not found... skipping.\n",
      "Hotel not found... skipping.\n",
      "Hotel not found... skipping.\n",
      "Hotel not found... skipping.\n",
      "Hotel not found... skipping.\n",
      "------- All Done!\n"
     ]
    }
   ],
   "source": [
    "# 6a. Set parameters to search for hotels with 5000 meters.\n",
    "params = {\n",
    "    \"radius\": 5000,\n",
    "    \"type\": \"lodging\",\n",
    "    \"key\": g_key\n",
    "}\n",
    "\n",
    "# 6b. Iterate through the hotel DataFrame.\n",
    "for index, row in hotel_df.iterrows():\n",
    "\n",
    "    # 6c. Get latitude and longitude from DataFrame\n",
    "    lat = row[\"Lat\"]\n",
    "    lng = row[\"Lng\"]\n",
    "    \n",
    "    params[\"location\"] = f\"{lat},{lng}\"\n",
    "    \n",
    "    # 6d. Set up the base URL for the Google Directions API to get JSON data.\n",
    "    base_url = \"https://maps.googleapis.com/maps/api/place/nearbysearch/json\"\n",
    "\n",
    "    # 6e. Make request and retrieve the JSON data from the search. \n",
    "    hotels = requests.get(base_url, params=params).json()\n",
    "   \n",
    "    # 6f. Get the first hotel from the results and store the name, if a hotel isn't found skip the city.\n",
    "    try:\n",
    "        hotel_df.loc[index, \"Hotel Name\"] = hotels[\"results\"][0][\"name\"]\n",
    "    \n",
    "    except:\n",
    "        print(\"Hotel not found... skipping.\")    \n",
    "\n",
    "print(\"------- All Done!\")"
   ]
  },
  {
   "cell_type": "code",
   "execution_count": 25,
   "metadata": {},
   "outputs": [
    {
     "output_type": "execute_result",
     "data": {
      "text/plain": [
       "                City Country  Max Temp Current Description      Lat       Lng  \\\n",
       "0         Sao Filipe      CV     72.61       broken clouds  14.8961  -24.4956   \n",
       "2            Ushuaia      AR     50.00     overcast clouds -54.8000  -68.3000   \n",
       "3          Busselton      AU     68.00       broken clouds -33.6500  115.3333   \n",
       "4        Port Alfred      ZA     70.99           clear sky -33.5906   26.8910   \n",
       "5        Mitsamiouli      KM     80.98           clear sky -11.3847   43.2844   \n",
       "..               ...     ...       ...                 ...      ...       ...   \n",
       "687         Pochutla      MX     77.00           clear sky  15.7432  -96.4661   \n",
       "688           Ranong      TH     78.80    scattered clouds   9.9658   98.6348   \n",
       "689        Inhambane      MZ     62.60                mist -23.8650   35.3833   \n",
       "690    Mount Gambier      AU     62.60     overcast clouds -37.8333  140.7667   \n",
       "692  Aleksandrov Gay      RU     56.35     overcast clouds  50.1470   48.5704   \n",
       "\n",
       "                      Hotel Name  \n",
       "0                    Tortuga B&B  \n",
       "2                 Albatros Hotel  \n",
       "3        Observatory Guest House  \n",
       "4             The Halyards Hotel  \n",
       "5                      Foyer ADM  \n",
       "..                           ...  \n",
       "687        Hotel Posada San Jose  \n",
       "688         Tinidee Hotel@Ranong  \n",
       "689                       Oceano  \n",
       "690        Commodore on the Park  \n",
       "692  Gostinitsa I.p. Yes'kov A.v  \n",
       "\n",
       "[390 rows x 7 columns]"
      ],
      "text/html": "<div>\n<style scoped>\n    .dataframe tbody tr th:only-of-type {\n        vertical-align: middle;\n    }\n\n    .dataframe tbody tr th {\n        vertical-align: top;\n    }\n\n    .dataframe thead th {\n        text-align: right;\n    }\n</style>\n<table border=\"1\" class=\"dataframe\">\n  <thead>\n    <tr style=\"text-align: right;\">\n      <th></th>\n      <th>City</th>\n      <th>Country</th>\n      <th>Max Temp</th>\n      <th>Current Description</th>\n      <th>Lat</th>\n      <th>Lng</th>\n      <th>Hotel Name</th>\n    </tr>\n  </thead>\n  <tbody>\n    <tr>\n      <th>0</th>\n      <td>Sao Filipe</td>\n      <td>CV</td>\n      <td>72.61</td>\n      <td>broken clouds</td>\n      <td>14.8961</td>\n      <td>-24.4956</td>\n      <td>Tortuga B&amp;B</td>\n    </tr>\n    <tr>\n      <th>2</th>\n      <td>Ushuaia</td>\n      <td>AR</td>\n      <td>50.00</td>\n      <td>overcast clouds</td>\n      <td>-54.8000</td>\n      <td>-68.3000</td>\n      <td>Albatros Hotel</td>\n    </tr>\n    <tr>\n      <th>3</th>\n      <td>Busselton</td>\n      <td>AU</td>\n      <td>68.00</td>\n      <td>broken clouds</td>\n      <td>-33.6500</td>\n      <td>115.3333</td>\n      <td>Observatory Guest House</td>\n    </tr>\n    <tr>\n      <th>4</th>\n      <td>Port Alfred</td>\n      <td>ZA</td>\n      <td>70.99</td>\n      <td>clear sky</td>\n      <td>-33.5906</td>\n      <td>26.8910</td>\n      <td>The Halyards Hotel</td>\n    </tr>\n    <tr>\n      <th>5</th>\n      <td>Mitsamiouli</td>\n      <td>KM</td>\n      <td>80.98</td>\n      <td>clear sky</td>\n      <td>-11.3847</td>\n      <td>43.2844</td>\n      <td>Foyer ADM</td>\n    </tr>\n    <tr>\n      <th>...</th>\n      <td>...</td>\n      <td>...</td>\n      <td>...</td>\n      <td>...</td>\n      <td>...</td>\n      <td>...</td>\n      <td>...</td>\n    </tr>\n    <tr>\n      <th>687</th>\n      <td>Pochutla</td>\n      <td>MX</td>\n      <td>77.00</td>\n      <td>clear sky</td>\n      <td>15.7432</td>\n      <td>-96.4661</td>\n      <td>Hotel Posada San Jose</td>\n    </tr>\n    <tr>\n      <th>688</th>\n      <td>Ranong</td>\n      <td>TH</td>\n      <td>78.80</td>\n      <td>scattered clouds</td>\n      <td>9.9658</td>\n      <td>98.6348</td>\n      <td>Tinidee Hotel@Ranong</td>\n    </tr>\n    <tr>\n      <th>689</th>\n      <td>Inhambane</td>\n      <td>MZ</td>\n      <td>62.60</td>\n      <td>mist</td>\n      <td>-23.8650</td>\n      <td>35.3833</td>\n      <td>Oceano</td>\n    </tr>\n    <tr>\n      <th>690</th>\n      <td>Mount Gambier</td>\n      <td>AU</td>\n      <td>62.60</td>\n      <td>overcast clouds</td>\n      <td>-37.8333</td>\n      <td>140.7667</td>\n      <td>Commodore on the Park</td>\n    </tr>\n    <tr>\n      <th>692</th>\n      <td>Aleksandrov Gay</td>\n      <td>RU</td>\n      <td>56.35</td>\n      <td>overcast clouds</td>\n      <td>50.1470</td>\n      <td>48.5704</td>\n      <td>Gostinitsa I.p. Yes'kov A.v</td>\n    </tr>\n  </tbody>\n</table>\n<p>390 rows × 7 columns</p>\n</div>"
     },
     "metadata": {},
     "execution_count": 25
    }
   ],
   "source": [
    "# 7. Drop the rows where there is no Hotel Name.\n",
    "is_nan = hotel_df.isnull().sum()\n",
    "is_nan\n",
    "new_hotel_df = hotel_df.loc[hotel_df[\"Hotel Name\"] != \"\"]\n",
    "new_hotel_df"
   ]
  },
  {
   "cell_type": "code",
   "execution_count": 26,
   "metadata": {},
   "outputs": [],
   "source": [
    "# 8a. Create the output File (CSV)\n",
    "output_data_file = \"WeatherPy_vacation.csv\"\n",
    "\n",
    "# 8b. Export the City_Data into a csv\n",
    "new_hotel_df.to_csv(output_data_file, index_label=\"City_ID\")"
   ]
  },
  {
   "cell_type": "code",
   "execution_count": 27,
   "metadata": {},
   "outputs": [],
   "source": [
    "# 9. Using the template add city name, the country code, the weather description and maximum temperature for the city.\n",
    "info_box_template = \"\"\"\n",
    "<dl>\n",
    "<dt>City</dt><dd>{City}</dd>\n",
    "<dt>Country</dt><dd>{Country}</dd>\n",
    "<dt>Weather Description</dt><dd>{Current Description} and {Max Temp}</dd>\n",
    "</dl>\n",
    "\"\"\"\n",
    "\n",
    "# 10a. Get the data from each row and add it to the formatting template and store the data in a list.\n",
    "hotel_info = [info_box_template.format(**row) for index, row in new_hotel_df.iterrows()]\n",
    "\n",
    "# 10b. Get the latitude and longitude from each row and store in a new DataFrame.\n",
    "locations = new_hotel_df[[\"Lat\", \"Lng\"]]"
   ]
  },
  {
   "cell_type": "code",
   "execution_count": 28,
   "metadata": {},
   "outputs": [
    {
     "output_type": "display_data",
     "data": {
      "text/plain": "Figure(layout=FigureLayout(height='420px'))",
      "application/vnd.jupyter.widget-view+json": {
       "version_major": 2,
       "version_minor": 0,
       "model_id": "97024dd9ee72487bb34180499701e82b"
      }
     },
     "metadata": {}
    }
   ],
   "source": [
    "# 11a. Add a marker layer for each city to the map. \n",
    "max_temp = new_hotel_df[\"Max Temp\"]\n",
    "fig = gmaps.figure(center=(30.0, 31.0), zoom_level=1.5)\n",
    "heat_layer = gmaps.heatmap_layer(locations, weights=max_temp,dissipating=False,\n",
    "             max_intensity=300, point_radius=4)\n",
    "marker_layer = gmaps.marker_layer(locations, info_box_content=hotel_info)\n",
    "fig.add_layer(heat_layer)\n",
    "fig.add_layer(marker_layer)\n",
    "\n",
    "# 11b. Display the figure\n",
    "fig\n"
   ]
  },
  {
   "cell_type": "code",
   "execution_count": null,
   "metadata": {},
   "outputs": [],
   "source": []
  },
  {
   "cell_type": "code",
   "execution_count": null,
   "metadata": {},
   "outputs": [],
   "source": []
  }
 ],
 "metadata": {
  "kernelspec": {
   "name": "python3",
   "display_name": "Python 3.8.5 64-bit ('base': conda)",
   "metadata": {
    "interpreter": {
     "hash": "86772cf87fe16d819f793785e52a177e46073571a3f7cde0fd59bbdcc1396115"
    }
   }
  },
  "language_info": {
   "codemirror_mode": {
    "name": "ipython",
    "version": 3
   },
   "file_extension": ".py",
   "mimetype": "text/x-python",
   "name": "python",
   "nbconvert_exporter": "python",
   "pygments_lexer": "ipython3",
   "version": "3.8.5"
  },
  "latex_envs": {
   "LaTeX_envs_menu_present": true,
   "autoclose": false,
   "autocomplete": true,
   "bibliofile": "biblio.bib",
   "cite_by": "apalike",
   "current_citInitial": 1,
   "eqLabelWithNumbers": true,
   "eqNumInitial": 1,
   "hotkeys": {
    "equation": "Ctrl-E",
    "itemize": "Ctrl-I"
   },
   "labels_anchors": false,
   "latex_user_defs": false,
   "report_style_numbering": false,
   "user_envs_cfg": false
  }
 },
 "nbformat": 4,
 "nbformat_minor": 2
}